{
 "cells": [
  {
   "cell_type": "markdown",
   "metadata": {},
   "source": [
    "# CS 410 Final Project:  Aspect Based Sentiment Analysis\n",
    "\n",
    "## Cristian Jansenson\n",
    "## Peter Tsapatsaris"
   ]
  },
  {
   "cell_type": "markdown",
   "metadata": {},
   "source": [
    "The application contained in this notebook performs two tasks:  (1) parses customer reviews into specified aspects (e.g., \"screen\", \"camera\", \"value\"), such that phrases are extracted that are assocaited with the relevant aspect; and (2) assigns sentiment ratings to each aspect, generating a set of sentiment scores for each product.\n",
    "\n",
    "To demonstrate the software, we will be loading and processing over 400k Amazon reviews of unlocked phones.  In the processing section of the algorithm, we will extract a fixed set of aspects/features about these reviews.  We will then perform sentiment analysis on them, with the goal of understanding if these reviews reflect positively or negatively on each of these aspects. The results will show that even a basic implementation ABSA can be powerful and useful. \n",
    "\n",
    "We obtained the data from https://www.kaggle.com/nehasontakke/amazon-unlocked-mobilecsv.  "
   ]
  },
  {
   "cell_type": "markdown",
   "metadata": {},
   "source": [
    "### Load libraries and data \n",
    "To use this application, customer reviews should be contained in a CSV file with the following columns, \"Product Name\", \"Brand Name\", \"Price\", \"Rating\", \"Reviews\", \"Review Votes\".  Other data formats will require some changes to the code."
   ]
  },
  {
   "cell_type": "code",
   "execution_count": 1,
   "metadata": {},
   "outputs": [
    {
     "name": "stdout",
     "output_type": "stream",
     "text": [
      "Loaded 413840 reviews.\n"
     ]
    }
   ],
   "source": [
    "import pandas as pd\n",
    "import numpy as np\n",
    "\n",
    "# The product names are not standard, so we'll group by brand name\n",
    "reviewsDF = pd.read_csv('Amazon_Unlocked_Mobile.csv')\n",
    "# normalize brand names\n",
    "reviewsDF['Brand Name'] = reviewsDF['Brand Name'].str.lower()\n",
    "reviews = reviewsDF.Reviews.tolist()\n",
    "brands = reviewsDF['Brand Name'].tolist()\n",
    "ratings = reviewsDF['Rating'].tolist()\n",
    "print(\"Loaded \" + str(len(reviews)) + \" reviews.\")"
   ]
  },
  {
   "cell_type": "code",
   "execution_count": 2,
   "metadata": {
    "scrolled": true
   },
   "outputs": [
    {
     "data": {
      "text/html": [
       "<div>\n",
       "<style scoped>\n",
       "    .dataframe tbody tr th:only-of-type {\n",
       "        vertical-align: middle;\n",
       "    }\n",
       "\n",
       "    .dataframe tbody tr th {\n",
       "        vertical-align: top;\n",
       "    }\n",
       "\n",
       "    .dataframe thead th {\n",
       "        text-align: right;\n",
       "    }\n",
       "</style>\n",
       "<table border=\"1\" class=\"dataframe\">\n",
       "  <thead>\n",
       "    <tr style=\"text-align: right;\">\n",
       "      <th></th>\n",
       "      <th>Product Name</th>\n",
       "      <th>Brand Name</th>\n",
       "      <th>Price</th>\n",
       "      <th>Rating</th>\n",
       "      <th>Reviews</th>\n",
       "      <th>Review Votes</th>\n",
       "    </tr>\n",
       "  </thead>\n",
       "  <tbody>\n",
       "    <tr>\n",
       "      <th>0</th>\n",
       "      <td>\"CLEAR CLEAN ESN\" Sprint EPIC 4G Galaxy SPH-D7...</td>\n",
       "      <td>samsung</td>\n",
       "      <td>199.99</td>\n",
       "      <td>5</td>\n",
       "      <td>I feel so LUCKY to have found this used (phone...</td>\n",
       "      <td>1.0</td>\n",
       "    </tr>\n",
       "    <tr>\n",
       "      <th>1</th>\n",
       "      <td>\"CLEAR CLEAN ESN\" Sprint EPIC 4G Galaxy SPH-D7...</td>\n",
       "      <td>samsung</td>\n",
       "      <td>199.99</td>\n",
       "      <td>4</td>\n",
       "      <td>nice phone, nice up grade from my pantach revu...</td>\n",
       "      <td>0.0</td>\n",
       "    </tr>\n",
       "    <tr>\n",
       "      <th>2</th>\n",
       "      <td>\"CLEAR CLEAN ESN\" Sprint EPIC 4G Galaxy SPH-D7...</td>\n",
       "      <td>samsung</td>\n",
       "      <td>199.99</td>\n",
       "      <td>5</td>\n",
       "      <td>Very pleased</td>\n",
       "      <td>0.0</td>\n",
       "    </tr>\n",
       "    <tr>\n",
       "      <th>3</th>\n",
       "      <td>\"CLEAR CLEAN ESN\" Sprint EPIC 4G Galaxy SPH-D7...</td>\n",
       "      <td>samsung</td>\n",
       "      <td>199.99</td>\n",
       "      <td>4</td>\n",
       "      <td>It works good but it goes slow sometimes but i...</td>\n",
       "      <td>0.0</td>\n",
       "    </tr>\n",
       "    <tr>\n",
       "      <th>4</th>\n",
       "      <td>\"CLEAR CLEAN ESN\" Sprint EPIC 4G Galaxy SPH-D7...</td>\n",
       "      <td>samsung</td>\n",
       "      <td>199.99</td>\n",
       "      <td>4</td>\n",
       "      <td>Great phone to replace my lost phone. The only...</td>\n",
       "      <td>0.0</td>\n",
       "    </tr>\n",
       "  </tbody>\n",
       "</table>\n",
       "</div>"
      ],
      "text/plain": [
       "                                        Product Name Brand Name   Price  \\\n",
       "0  \"CLEAR CLEAN ESN\" Sprint EPIC 4G Galaxy SPH-D7...    samsung  199.99   \n",
       "1  \"CLEAR CLEAN ESN\" Sprint EPIC 4G Galaxy SPH-D7...    samsung  199.99   \n",
       "2  \"CLEAR CLEAN ESN\" Sprint EPIC 4G Galaxy SPH-D7...    samsung  199.99   \n",
       "3  \"CLEAR CLEAN ESN\" Sprint EPIC 4G Galaxy SPH-D7...    samsung  199.99   \n",
       "4  \"CLEAR CLEAN ESN\" Sprint EPIC 4G Galaxy SPH-D7...    samsung  199.99   \n",
       "\n",
       "   Rating                                            Reviews  Review Votes  \n",
       "0       5  I feel so LUCKY to have found this used (phone...           1.0  \n",
       "1       4  nice phone, nice up grade from my pantach revu...           0.0  \n",
       "2       5                                       Very pleased           0.0  \n",
       "3       4  It works good but it goes slow sometimes but i...           0.0  \n",
       "4       4  Great phone to replace my lost phone. The only...           0.0  "
      ]
     },
     "execution_count": 2,
     "metadata": {},
     "output_type": "execute_result"
    }
   ],
   "source": [
    "reviewsDF.head()"
   ]
  },
  {
   "cell_type": "markdown",
   "metadata": {},
   "source": [
    "## Part 1:  Segment customer reviews into aspect associated phrases\n",
    "\n",
    "We want to transform this reviews dataframe into a phrases dataframe, with phrase being a sequence of words containing one of the aspect terms.\n",
    "\n",
    "#### The aspects\n",
    "For this exercise, we handpicked the following aspects: \"battery\", \"screen\", \"camera\", and  \"performance\". These aspects can be easily changed by editing the relevant_aspects variable below.  \n",
    "\n",
    "#### About the new dataframe\n",
    "The new dataframe will contain phrases with the aspects we find relevant, along with the review ID for each phrase. To find the phrases in the review, first we break down the review into sentences.  Within each sentence, we are looking and extracting the aspect and the surrounding words. For example, consider the following review:\n",
    "\n",
    "```\n",
    "Had the phone for less than a week and it died; no warning. I found that the screen is great because it is bright even in the sunlight. 3g on ATT is fast.Doesn't matter about the features though. Dying in a few days is a sure way to get 1 \n",
    "star.\n",
    "```\n",
    "\n",
    "In this review the aspect term **screen** is found in the sentence \"I found that the screen is great because it is bright even in the sunlight.\"To obtain a phrase containing the aspect 'screen' we extract the aspect and the 5 neighboring terms to the right and left of this aspect. To be considered a neighboring term, it must be at least 3 characters long.  In this case, the following phrase is extracted: \"found that screen great because bright even sunlight\""
   ]
  },
  {
   "cell_type": "markdown",
   "metadata": {},
   "source": [
    "![alt text](fromDFtoDF1.jpg \"Title\")"
   ]
  },
  {
   "cell_type": "markdown",
   "metadata": {},
   "source": [
    "#### Helper function:   get_all_phrases_containing_tar_wrd\n",
    "\n",
    "Given a review, this function returns all the neighborhood terms containing the target word in a text/passage."
   ]
  },
  {
   "cell_type": "code",
   "execution_count": 10,
   "metadata": {},
   "outputs": [],
   "source": [
    "# Reference: https://simply-python.com/2014/03/14/saving-output-of-nltk-text-concordance/  \n",
    "\n",
    "import nltk\n",
    "def get_all_phrases_containing_tar_wrd(target_word, tar_passage, left_margin = 5, right_margin = 5):\n",
    "    \"\"\"\n",
    "        Function to get all the pharses that contain the target word in a text/passage tar_passage.\n",
    "        Workaround to save the output given by nltk Concordance function\n",
    "        \n",
    "        str target_word --> aspect to be searched for\n",
    "        str tar_passage  --> sentence extracted from a customer review\n",
    "        int left_margin int right_margin --> left_margin and right_margin allocate the number of words/punctuation before and after target word\n",
    "        Left margin will take note of the beginning of the text\n",
    "    \"\"\"\n",
    "     \n",
    "    ## Create list of tokens using nltk function\n",
    "    tokens = nltk.word_tokenize(tar_passage)\n",
    "    tokens = [x for x in tokens if len(x)>2] \n",
    "    ## Create the text of tokens\n",
    "    text = nltk.Text(tokens)\n",
    " \n",
    "    ## Collect all the index or offset position of the target word\n",
    "    c = nltk.ConcordanceIndex(text.tokens, key = lambda s: s.lower())\n",
    " \n",
    "    ## Collect the range of the words that is within the target word by using text.tokens[start;end].\n",
    "    ## The map function is use so that when the offset position - the target range < 0, it will be default to zero\n",
    "    \n",
    "    concordance_txt = ([text.tokens[  list(map(lambda x: x-5 if (x-left_margin)>0 else 0,[offset]))[0]:offset+right_margin] for offset in c.offsets(target_word)])\n",
    "\n",
    "    ## join the sentences for each of the target phrase and return it\n",
    "    return [''.join([x+' ' for x in con_sub]) for con_sub in concordance_txt]"
   ]
  },
  {
   "cell_type": "markdown",
   "metadata": {},
   "source": [
    "#### Breaking down the sentences into phrases containing relevant aspects.\n",
    "\n",
    "Below is the main body of the aspect extraction code.  The pseudocode is as follows:\n",
    "```\n",
    "For each review in the list of reviews:\n",
    "    Break down the review in sentences.\n",
    "    for each sentence in the review:\n",
    "        Break down the sentence into phrases - a phrase here is a +/- 5 words neighborhood of the aspect.\n",
    "        For each phrase containing a relevant aspect:\n",
    "            Append data for a new row entry for the dataframe.\n",
    "```"
   ]
  },
  {
   "cell_type": "code",
   "execution_count": 11,
   "metadata": {
    "scrolled": true
   },
   "outputs": [
    {
     "name": "stdout",
     "output_type": "stream",
     "text": [
      "Extracted 155302 phrases from the reviews\n"
     ]
    },
    {
     "data": {
      "text/html": [
       "<div>\n",
       "<style scoped>\n",
       "    .dataframe tbody tr th:only-of-type {\n",
       "        vertical-align: middle;\n",
       "    }\n",
       "\n",
       "    .dataframe tbody tr th {\n",
       "        vertical-align: top;\n",
       "    }\n",
       "\n",
       "    .dataframe thead th {\n",
       "        text-align: right;\n",
       "    }\n",
       "</style>\n",
       "<table border=\"1\" class=\"dataframe\">\n",
       "  <thead>\n",
       "    <tr style=\"text-align: right;\">\n",
       "      <th></th>\n",
       "      <th>brand</th>\n",
       "      <th>phrase</th>\n",
       "      <th>rating</th>\n",
       "      <th>aspect</th>\n",
       "      <th>review_id</th>\n",
       "    </tr>\n",
       "  </thead>\n",
       "  <tbody>\n",
       "    <tr>\n",
       "      <th>0</th>\n",
       "      <td>samsung</td>\n",
       "      <td>Then needed new battery well</td>\n",
       "      <td>2</td>\n",
       "      <td>battery</td>\n",
       "      <td>6</td>\n",
       "    </tr>\n",
       "    <tr>\n",
       "      <th>1</th>\n",
       "      <td>samsung</td>\n",
       "      <td>stay charged had buy new battery</td>\n",
       "      <td>2</td>\n",
       "      <td>battery</td>\n",
       "      <td>7</td>\n",
       "    </tr>\n",
       "    <tr>\n",
       "      <th>2</th>\n",
       "      <td>samsung</td>\n",
       "      <td>But the camera works great the video</td>\n",
       "      <td>5</td>\n",
       "      <td>camera</td>\n",
       "      <td>8</td>\n",
       "    </tr>\n",
       "    <tr>\n",
       "      <th>3</th>\n",
       "      <td>samsung</td>\n",
       "      <td>also notice that battery life lasts little bit</td>\n",
       "      <td>5</td>\n",
       "      <td>battery</td>\n",
       "      <td>8</td>\n",
       "    </tr>\n",
       "    <tr>\n",
       "      <th>4</th>\n",
       "      <td>samsung</td>\n",
       "      <td>battery life great</td>\n",
       "      <td>3</td>\n",
       "      <td>battery</td>\n",
       "      <td>9</td>\n",
       "    </tr>\n",
       "  </tbody>\n",
       "</table>\n",
       "</div>"
      ],
      "text/plain": [
       "     brand                                           phrase  rating   aspect  \\\n",
       "0  samsung                    Then needed new battery well        2  battery   \n",
       "1  samsung                stay charged had buy new battery        2  battery   \n",
       "2  samsung            But the camera works great the video        5   camera   \n",
       "3  samsung  also notice that battery life lasts little bit        5  battery   \n",
       "4  samsung                              battery life great        3  battery   \n",
       "\n",
       "   review_id  \n",
       "0          6  \n",
       "1          7  \n",
       "2          8  \n",
       "3          8  \n",
       "4          9  "
      ]
     },
     "execution_count": 11,
     "metadata": {},
     "output_type": "execute_result"
    }
   ],
   "source": [
    "from nltk import sent_tokenize\n",
    "\n",
    "## Select the aspects we believe are relevant \n",
    "relevant_aspects = ['battery', 'screen', 'camera', 'performance']\n",
    "\n",
    "## Make lists for each of the columns that we will have in our new dataframe\n",
    "phrases = []\n",
    "brand = []\n",
    "rating = []\n",
    "aspects = []\n",
    "review_num = []\n",
    "counter = 0\n",
    "# Loop through all the reviews\n",
    "for review in reviews:\n",
    "    try:\n",
    "        # Break the reviews in sentences and loop through them\n",
    "        for sentence in sent_tokenize(review):\n",
    "            for  important_word in relevant_aspects:\n",
    "                # Get all the phrases containing one of the topic names\n",
    "                # Create append list of phrases, aspects, ratings etc to create a DF\n",
    "                phrases_in_sentence = get_all_phrases_containing_tar_wrd(important_word, sentence, left_margin = 5, right_margin = 5) \n",
    "                for phrase in phrases_in_sentence:\n",
    "                    brand.append(brands[counter])\n",
    "                    rating.append(ratings[counter])\n",
    "                    aspect = 'other'\n",
    "                    for imp_word in relevant_aspects:\n",
    "                        if imp_word in phrase.lower():\n",
    "                            aspect = imp_word\n",
    "                    aspects.append(aspect)\n",
    "                    phrases.append(phrase)\n",
    "                    review_num.append(counter)\n",
    "    except:\n",
    "        pass\n",
    "    counter = counter + 1\n",
    "\n",
    "print('Extracted ' + str(len(phrases)) + ' phrases from the reviews')\n",
    "\n",
    "# Create the phrases dataframe\n",
    "phrasesDF = pd.DataFrame()\n",
    "phrasesDF['brand'] = brand \n",
    "phrasesDF['phrase'] = phrases\n",
    "phrasesDF['rating'] = rating\n",
    "phrasesDF['aspect'] = aspects\n",
    "phrasesDF['review_id'] = review_num\n",
    "phrasesDF.head()\n"
   ]
  },
  {
   "cell_type": "markdown",
   "metadata": {},
   "source": [
    "## Part 2:  Perform sentiment analysis on each aspect phrase\n",
    "\n",
    "We us the vader sentiment analyzer from the NLTK library to perform sentiment analysis on each phrase, and we append the reults to the dataframe. "
   ]
  },
  {
   "cell_type": "code",
   "execution_count": 12,
   "metadata": {},
   "outputs": [
    {
     "name": "stderr",
     "output_type": "stream",
     "text": [
      "C:\\Users\\Peter\\Anaconda3\\lib\\site-packages\\nltk\\twitter\\__init__.py:20: UserWarning: The twython library has not been installed. Some functionality from the twitter package will not be available.\n",
      "  warnings.warn(\"The twython library has not been installed. \"\n"
     ]
    }
   ],
   "source": [
    "# https://opensourceforu.com/2016/12/analysing-sentiments-nltk/\n",
    "import nltk\n",
    "from nltk.sentiment.vader import SentimentIntensityAnalyzer \n",
    "vader_sentiment = []  \n",
    "vader_sentiment_neg = [] \n",
    "vader_sentiment_pos = []\n",
    "sid = SentimentIntensityAnalyzer()\n",
    "for sentence in phrasesDF['phrase']:\n",
    "    try:\n",
    "        vader_sentiment.append(sid.polarity_scores(sentence)['compound'])\n",
    "        vader_sentiment_pos.append(sid.polarity_scores(sentence)['pos'])\n",
    "        vader_sentiment_neg.append(sid.polarity_scores(sentence)['neg'])\n",
    "    except:\n",
    "        vader_sentiment.append(0.5)\n",
    "phrasesDF['vader_sentiment'] = pd.Series(vader_sentiment)   \n",
    "phrasesDF['vader_sentiment_neg'] = pd.Series(vader_sentiment_neg)   \n",
    "phrasesDF['vader_sentiment_pos'] = pd.Series(vader_sentiment_pos)"
   ]
  },
  {
   "cell_type": "code",
   "execution_count": 13,
   "metadata": {},
   "outputs": [
    {
     "data": {
      "text/html": [
       "<div>\n",
       "<style scoped>\n",
       "    .dataframe tbody tr th:only-of-type {\n",
       "        vertical-align: middle;\n",
       "    }\n",
       "\n",
       "    .dataframe tbody tr th {\n",
       "        vertical-align: top;\n",
       "    }\n",
       "\n",
       "    .dataframe thead th {\n",
       "        text-align: right;\n",
       "    }\n",
       "</style>\n",
       "<table border=\"1\" class=\"dataframe\">\n",
       "  <thead>\n",
       "    <tr style=\"text-align: right;\">\n",
       "      <th></th>\n",
       "      <th>brand</th>\n",
       "      <th>phrase</th>\n",
       "      <th>rating</th>\n",
       "      <th>aspect</th>\n",
       "      <th>review_id</th>\n",
       "      <th>vader_sentiment</th>\n",
       "      <th>vader_sentiment_neg</th>\n",
       "      <th>vader_sentiment_pos</th>\n",
       "    </tr>\n",
       "  </thead>\n",
       "  <tbody>\n",
       "    <tr>\n",
       "      <th>0</th>\n",
       "      <td>samsung</td>\n",
       "      <td>Then needed new battery well</td>\n",
       "      <td>2</td>\n",
       "      <td>battery</td>\n",
       "      <td>6</td>\n",
       "      <td>0.2732</td>\n",
       "      <td>0.000</td>\n",
       "      <td>0.344</td>\n",
       "    </tr>\n",
       "    <tr>\n",
       "      <th>1</th>\n",
       "      <td>samsung</td>\n",
       "      <td>stay charged had buy new battery</td>\n",
       "      <td>2</td>\n",
       "      <td>battery</td>\n",
       "      <td>7</td>\n",
       "      <td>-0.2023</td>\n",
       "      <td>0.265</td>\n",
       "      <td>0.000</td>\n",
       "    </tr>\n",
       "    <tr>\n",
       "      <th>2</th>\n",
       "      <td>samsung</td>\n",
       "      <td>But the camera works great the video</td>\n",
       "      <td>5</td>\n",
       "      <td>camera</td>\n",
       "      <td>8</td>\n",
       "      <td>0.6249</td>\n",
       "      <td>0.000</td>\n",
       "      <td>0.406</td>\n",
       "    </tr>\n",
       "    <tr>\n",
       "      <th>3</th>\n",
       "      <td>samsung</td>\n",
       "      <td>also notice that battery life lasts little bit</td>\n",
       "      <td>5</td>\n",
       "      <td>battery</td>\n",
       "      <td>8</td>\n",
       "      <td>0.0000</td>\n",
       "      <td>0.000</td>\n",
       "      <td>0.000</td>\n",
       "    </tr>\n",
       "    <tr>\n",
       "      <th>4</th>\n",
       "      <td>samsung</td>\n",
       "      <td>battery life great</td>\n",
       "      <td>3</td>\n",
       "      <td>battery</td>\n",
       "      <td>9</td>\n",
       "      <td>0.6249</td>\n",
       "      <td>0.000</td>\n",
       "      <td>0.672</td>\n",
       "    </tr>\n",
       "  </tbody>\n",
       "</table>\n",
       "</div>"
      ],
      "text/plain": [
       "     brand                                           phrase  rating   aspect  \\\n",
       "0  samsung                    Then needed new battery well        2  battery   \n",
       "1  samsung                stay charged had buy new battery        2  battery   \n",
       "2  samsung            But the camera works great the video        5   camera   \n",
       "3  samsung  also notice that battery life lasts little bit        5  battery   \n",
       "4  samsung                              battery life great        3  battery   \n",
       "\n",
       "   review_id  vader_sentiment  vader_sentiment_neg  vader_sentiment_pos  \n",
       "0          6           0.2732                0.000                0.344  \n",
       "1          7          -0.2023                0.265                0.000  \n",
       "2          8           0.6249                0.000                0.406  \n",
       "3          8           0.0000                0.000                0.000  \n",
       "4          9           0.6249                0.000                0.672  "
      ]
     },
     "execution_count": 13,
     "metadata": {},
     "output_type": "execute_result"
    }
   ],
   "source": [
    "phrasesDF.head()"
   ]
  },
  {
   "cell_type": "markdown",
   "metadata": {},
   "source": [
    "## Part 3:  Example usecases"
   ]
  },
  {
   "cell_type": "markdown",
   "metadata": {
    "collapsed": true
   },
   "source": [
    "### Usecase A:  Study the strengths of one selected brand:"
   ]
  },
  {
   "cell_type": "code",
   "execution_count": 14,
   "metadata": {
    "scrolled": true
   },
   "outputs": [
    {
     "data": {
      "text/plain": [
       "<matplotlib.axes._subplots.AxesSubplot at 0x1460e4772b0>"
      ]
     },
     "execution_count": 14,
     "metadata": {},
     "output_type": "execute_result"
    },
    {
     "data": {
      "image/png": "[encoded data removed]",
      "text/plain": [
       "<matplotlib.figure.Figure at 0x1460b99cfd0>"
      ]
     },
     "metadata": {},
     "output_type": "display_data"
    }
   ],
   "source": [
    "# Select a brand\n",
    "BRAND = 'huawei'\n",
    "\n",
    "## Get only the rows for the selected brand\n",
    "sel_brand = phrasesDF[phrasesDF['brand'] == BRAND]\n",
    "# Remove the neutral sentiment phrases, which tend to obscure the charts in our study\n",
    "sel_brand = sel_brand.query('vader_sentiment < -0.1 or vader_sentiment > 0.1')  \n",
    "\n",
    "# Create sentiment dataframes for each of the relevant aspects\n",
    "sel_brand_battery = sel_brand[sel_brand['aspect'] == 'battery']['vader_sentiment']\n",
    "sel_brand_screen = sel_brand[sel_brand['aspect'] == 'screen']['vader_sentiment']\n",
    "sel_brand_camera = sel_brand[sel_brand['aspect'] == 'camera']['vader_sentiment']\n",
    "sel_brand_performance = sel_brand[sel_brand['aspect'] == 'performance']['vader_sentiment']\n",
    "\n",
    "# Chart a histogram for each of the aspects\n",
    "import matplotlib\n",
    "%matplotlib inline  \n",
    "import matplotlib.pyplot as plt\n",
    "fig, axes = plt.subplots(nrows=2, ncols=2, figsize=(7,4))\n",
    "plt.tight_layout()\n",
    "\n",
    "axes[0,0].set_title(\"Screen\")\n",
    "axes[0,1].set_title(\"Camera\")\n",
    "axes[1,0].set_title(\"Battery\")\n",
    "axes[1,1].set_title(\"Performance\")\n",
    "\n",
    "sel_brand_screen.hist(ax=axes[0,0], bins=20)\n",
    "sel_brand_camera.hist(ax=axes[0,1])\n",
    "sel_brand_battery.hist(ax=axes[1,0], bins=20)\n",
    "sel_brand_performance.hist(ax=axes[1,1])"
   ]
  },
  {
   "cell_type": "markdown",
   "metadata": {},
   "source": [
    "### Usecase B:  Sort brands by aspect ratings\n",
    "\n",
    "### What brands are best at a selected aspect? "
   ]
  },
  {
   "cell_type": "code",
   "execution_count": 15,
   "metadata": {},
   "outputs": [
    {
     "data": {
      "text/plain": [
       "brand\n",
       "samsung           19906\n",
       "nokia              9773\n",
       "lg                 9518\n",
       "apple              9263\n",
       "motorola           6926\n",
       "sony               6652\n",
       "htc                5491\n",
       "posh mobile        5104\n",
       "blackberry         3884\n",
       "huawei             2905\n",
       "cnpgd              2466\n",
       "zte                1880\n",
       "lg electronics     1776\n",
       "alcatel            1718\n",
       "asus               1492\n",
       "otterbox           1028\n",
       "polaroid            797\n",
       "asus computers      673\n",
       "verykool            611\n",
       "Name: phrase, dtype: int64"
      ]
     },
     "execution_count": 15,
     "metadata": {},
     "output_type": "execute_result"
    }
   ],
   "source": [
    "## Find which brands have most of the reviews, and drop the ones with fewer reviews\n",
    "topBrandsDF = phrasesDF.groupby(['brand']).count()\n",
    "topBrandsDF = topBrandsDF['phrase'].sort_values(ascending = False)[1:20]\n",
    "topBrands = topBrandsDF.index.values\n",
    "topBrandsDF"
   ]
  },
  {
   "cell_type": "code",
   "execution_count": 16,
   "metadata": {},
   "outputs": [
    {
     "data": {
      "text/html": [
       "<div>\n",
       "<style scoped>\n",
       "    .dataframe tbody tr th:only-of-type {\n",
       "        vertical-align: middle;\n",
       "    }\n",
       "\n",
       "    .dataframe tbody tr th {\n",
       "        vertical-align: top;\n",
       "    }\n",
       "\n",
       "    .dataframe thead th {\n",
       "        text-align: right;\n",
       "    }\n",
       "</style>\n",
       "<table border=\"1\" class=\"dataframe\">\n",
       "  <thead>\n",
       "    <tr style=\"text-align: right;\">\n",
       "      <th></th>\n",
       "      <th></th>\n",
       "      <th>vader_sentiment</th>\n",
       "    </tr>\n",
       "    <tr>\n",
       "      <th>brand</th>\n",
       "      <th>aspect</th>\n",
       "      <th></th>\n",
       "    </tr>\n",
       "  </thead>\n",
       "  <tbody>\n",
       "    <tr>\n",
       "      <th rowspan=\"4\" valign=\"top\">alcatel</th>\n",
       "      <th>battery</th>\n",
       "      <td>0.178268</td>\n",
       "    </tr>\n",
       "    <tr>\n",
       "      <th>camera</th>\n",
       "      <td>0.211906</td>\n",
       "    </tr>\n",
       "    <tr>\n",
       "      <th>performance</th>\n",
       "      <td>0.216578</td>\n",
       "    </tr>\n",
       "    <tr>\n",
       "      <th>screen</th>\n",
       "      <td>0.190165</td>\n",
       "    </tr>\n",
       "    <tr>\n",
       "      <th rowspan=\"4\" valign=\"top\">apple</th>\n",
       "      <th>battery</th>\n",
       "      <td>-0.037958</td>\n",
       "    </tr>\n",
       "    <tr>\n",
       "      <th>camera</th>\n",
       "      <td>0.160082</td>\n",
       "    </tr>\n",
       "    <tr>\n",
       "      <th>performance</th>\n",
       "      <td>0.403919</td>\n",
       "    </tr>\n",
       "    <tr>\n",
       "      <th>screen</th>\n",
       "      <td>0.023324</td>\n",
       "    </tr>\n",
       "    <tr>\n",
       "      <th rowspan=\"4\" valign=\"top\">asus</th>\n",
       "      <th>battery</th>\n",
       "      <td>0.110413</td>\n",
       "    </tr>\n",
       "    <tr>\n",
       "      <th>camera</th>\n",
       "      <td>0.211596</td>\n",
       "    </tr>\n",
       "    <tr>\n",
       "      <th>performance</th>\n",
       "      <td>0.278378</td>\n",
       "    </tr>\n",
       "    <tr>\n",
       "      <th>screen</th>\n",
       "      <td>0.159329</td>\n",
       "    </tr>\n",
       "    <tr>\n",
       "      <th rowspan=\"3\" valign=\"top\">asus computers</th>\n",
       "      <th>battery</th>\n",
       "      <td>0.090584</td>\n",
       "    </tr>\n",
       "    <tr>\n",
       "      <th>camera</th>\n",
       "      <td>0.274595</td>\n",
       "    </tr>\n",
       "    <tr>\n",
       "      <th>performance</th>\n",
       "      <td>0.360814</td>\n",
       "    </tr>\n",
       "  </tbody>\n",
       "</table>\n",
       "</div>"
      ],
      "text/plain": [
       "                            vader_sentiment\n",
       "brand          aspect                      \n",
       "alcatel        battery             0.178268\n",
       "               camera              0.211906\n",
       "               performance         0.216578\n",
       "               screen              0.190165\n",
       "apple          battery            -0.037958\n",
       "               camera              0.160082\n",
       "               performance         0.403919\n",
       "               screen              0.023324\n",
       "asus           battery             0.110413\n",
       "               camera              0.211596\n",
       "               performance         0.278378\n",
       "               screen              0.159329\n",
       "asus computers battery             0.090584\n",
       "               camera              0.274595\n",
       "               performance         0.360814"
      ]
     },
     "execution_count": 16,
     "metadata": {},
     "output_type": "execute_result"
    }
   ],
   "source": [
    "# Make a dataframe with only the most reviewed brands \n",
    "mostBrandsReviews = phrasesDF[phrasesDF['brand'].isin(topBrands)] \n",
    "# Group by brand and aspect\n",
    "s1 = mostBrandsReviews.groupby(['brand', 'aspect'])['vader_sentiment'].mean()\n",
    "mostBrandsReviews = pd.DataFrame(s1, columns=['vader_sentiment'])\n",
    "\n",
    "# Make a flat version of this DF\n",
    "mostBrandsReviewsFlat = mostBrandsReviews.stack().reset_index()\n",
    "mostBrandsReviewsFlat.columns.values\n",
    "mostBrandsReviewsFlat['meanReview'] = mostBrandsReviewsFlat[0]\n",
    "mostBrandsReviewsFlat = mostBrandsReviewsFlat.drop(['level_2', 0], axis=1)\n",
    "\n",
    "mostBrandsReviews.head(15)"
   ]
  },
  {
   "cell_type": "markdown",
   "metadata": {},
   "source": [
    "#### Brands with top battery sentiment ratings"
   ]
  },
  {
   "cell_type": "code",
   "execution_count": 17,
   "metadata": {},
   "outputs": [
    {
     "data": {
      "text/html": [
       "<div>\n",
       "<style scoped>\n",
       "    .dataframe tbody tr th:only-of-type {\n",
       "        vertical-align: middle;\n",
       "    }\n",
       "\n",
       "    .dataframe tbody tr th {\n",
       "        vertical-align: top;\n",
       "    }\n",
       "\n",
       "    .dataframe thead th {\n",
       "        text-align: right;\n",
       "    }\n",
       "</style>\n",
       "<table border=\"1\" class=\"dataframe\">\n",
       "  <thead>\n",
       "    <tr style=\"text-align: right;\">\n",
       "      <th></th>\n",
       "      <th>brand</th>\n",
       "      <th>aspect</th>\n",
       "      <th>meanReview</th>\n",
       "    </tr>\n",
       "  </thead>\n",
       "  <tbody>\n",
       "    <tr>\n",
       "      <th>28</th>\n",
       "      <td>huawei</td>\n",
       "      <td>battery</td>\n",
       "      <td>0.216604</td>\n",
       "    </tr>\n",
       "    <tr>\n",
       "      <th>0</th>\n",
       "      <td>alcatel</td>\n",
       "      <td>battery</td>\n",
       "      <td>0.178268</td>\n",
       "    </tr>\n",
       "    <tr>\n",
       "      <th>72</th>\n",
       "      <td>zte</td>\n",
       "      <td>battery</td>\n",
       "      <td>0.144789</td>\n",
       "    </tr>\n",
       "  </tbody>\n",
       "</table>\n",
       "</div>"
      ],
      "text/plain": [
       "      brand   aspect  meanReview\n",
       "28   huawei  battery    0.216604\n",
       "0   alcatel  battery    0.178268\n",
       "72      zte  battery    0.144789"
      ]
     },
     "execution_count": 17,
     "metadata": {},
     "output_type": "execute_result"
    }
   ],
   "source": [
    "aspect = 'battery'\n",
    "mostBrandsReviewsFlat[mostBrandsReviewsFlat['aspect'] == aspect].sort_values(by=['meanReview'], ascending = False)[0:3]"
   ]
  },
  {
   "cell_type": "markdown",
   "metadata": {},
   "source": [
    "#### Brands with top screen sentiment ratings"
   ]
  },
  {
   "cell_type": "code",
   "execution_count": 18,
   "metadata": {},
   "outputs": [
    {
     "data": {
      "text/html": [
       "<div>\n",
       "<style scoped>\n",
       "    .dataframe tbody tr th:only-of-type {\n",
       "        vertical-align: middle;\n",
       "    }\n",
       "\n",
       "    .dataframe tbody tr th {\n",
       "        vertical-align: top;\n",
       "    }\n",
       "\n",
       "    .dataframe thead th {\n",
       "        text-align: right;\n",
       "    }\n",
       "</style>\n",
       "<table border=\"1\" class=\"dataframe\">\n",
       "  <thead>\n",
       "    <tr style=\"text-align: right;\">\n",
       "      <th></th>\n",
       "      <th>brand</th>\n",
       "      <th>aspect</th>\n",
       "      <th>meanReview</th>\n",
       "    </tr>\n",
       "  </thead>\n",
       "  <tbody>\n",
       "    <tr>\n",
       "      <th>75</th>\n",
       "      <td>zte</td>\n",
       "      <td>screen</td>\n",
       "      <td>0.288299</td>\n",
       "    </tr>\n",
       "    <tr>\n",
       "      <th>31</th>\n",
       "      <td>huawei</td>\n",
       "      <td>screen</td>\n",
       "      <td>0.223562</td>\n",
       "    </tr>\n",
       "    <tr>\n",
       "      <th>15</th>\n",
       "      <td>asus computers</td>\n",
       "      <td>screen</td>\n",
       "      <td>0.202972</td>\n",
       "    </tr>\n",
       "  </tbody>\n",
       "</table>\n",
       "</div>"
      ],
      "text/plain": [
       "             brand  aspect  meanReview\n",
       "75             zte  screen    0.288299\n",
       "31          huawei  screen    0.223562\n",
       "15  asus computers  screen    0.202972"
      ]
     },
     "execution_count": 18,
     "metadata": {},
     "output_type": "execute_result"
    }
   ],
   "source": [
    "aspect = 'screen'\n",
    "mostBrandsReviewsFlat[mostBrandsReviewsFlat['aspect'] == aspect].sort_values(by=['meanReview'], ascending = False)[0:3]"
   ]
  },
  {
   "cell_type": "markdown",
   "metadata": {},
   "source": [
    "###  Brands with worst reviews in relevant aspects"
   ]
  },
  {
   "cell_type": "markdown",
   "metadata": {},
   "source": [
    "#### Brands with worst battery sentiment ratings"
   ]
  },
  {
   "cell_type": "code",
   "execution_count": 19,
   "metadata": {},
   "outputs": [
    {
     "data": {
      "text/html": [
       "<div>\n",
       "<style scoped>\n",
       "    .dataframe tbody tr th:only-of-type {\n",
       "        vertical-align: middle;\n",
       "    }\n",
       "\n",
       "    .dataframe tbody tr th {\n",
       "        vertical-align: top;\n",
       "    }\n",
       "\n",
       "    .dataframe thead th {\n",
       "        text-align: right;\n",
       "    }\n",
       "</style>\n",
       "<table border=\"1\" class=\"dataframe\">\n",
       "  <thead>\n",
       "    <tr style=\"text-align: right;\">\n",
       "      <th></th>\n",
       "      <th>brand</th>\n",
       "      <th>aspect</th>\n",
       "      <th>meanReview</th>\n",
       "    </tr>\n",
       "  </thead>\n",
       "  <tbody>\n",
       "    <tr>\n",
       "      <th>52</th>\n",
       "      <td>polaroid</td>\n",
       "      <td>battery</td>\n",
       "      <td>-0.128303</td>\n",
       "    </tr>\n",
       "    <tr>\n",
       "      <th>48</th>\n",
       "      <td>otterbox</td>\n",
       "      <td>battery</td>\n",
       "      <td>-0.050218</td>\n",
       "    </tr>\n",
       "    <tr>\n",
       "      <th>4</th>\n",
       "      <td>apple</td>\n",
       "      <td>battery</td>\n",
       "      <td>-0.037958</td>\n",
       "    </tr>\n",
       "  </tbody>\n",
       "</table>\n",
       "</div>"
      ],
      "text/plain": [
       "       brand   aspect  meanReview\n",
       "52  polaroid  battery   -0.128303\n",
       "48  otterbox  battery   -0.050218\n",
       "4      apple  battery   -0.037958"
      ]
     },
     "execution_count": 19,
     "metadata": {},
     "output_type": "execute_result"
    }
   ],
   "source": [
    "aspect = 'battery'\n",
    "mostBrandsReviewsFlat[mostBrandsReviewsFlat['aspect'] == aspect].sort_values(by=['meanReview'], ascending = True)[0:3]"
   ]
  },
  {
   "cell_type": "markdown",
   "metadata": {},
   "source": [
    "#### Brands with worst screen sentiment ratings"
   ]
  },
  {
   "cell_type": "code",
   "execution_count": 21,
   "metadata": {},
   "outputs": [
    {
     "data": {
      "text/html": [
       "<div>\n",
       "<style scoped>\n",
       "    .dataframe tbody tr th:only-of-type {\n",
       "        vertical-align: middle;\n",
       "    }\n",
       "\n",
       "    .dataframe tbody tr th {\n",
       "        vertical-align: top;\n",
       "    }\n",
       "\n",
       "    .dataframe thead th {\n",
       "        text-align: right;\n",
       "    }\n",
       "</style>\n",
       "<table border=\"1\" class=\"dataframe\">\n",
       "  <thead>\n",
       "    <tr style=\"text-align: right;\">\n",
       "      <th></th>\n",
       "      <th>brand</th>\n",
       "      <th>aspect</th>\n",
       "      <th>meanReview</th>\n",
       "    </tr>\n",
       "  </thead>\n",
       "  <tbody>\n",
       "    <tr>\n",
       "      <th>23</th>\n",
       "      <td>cnpgd</td>\n",
       "      <td>screen</td>\n",
       "      <td>0.019074</td>\n",
       "    </tr>\n",
       "    <tr>\n",
       "      <th>7</th>\n",
       "      <td>apple</td>\n",
       "      <td>screen</td>\n",
       "      <td>0.023324</td>\n",
       "    </tr>\n",
       "    <tr>\n",
       "      <th>51</th>\n",
       "      <td>otterbox</td>\n",
       "      <td>screen</td>\n",
       "      <td>0.054884</td>\n",
       "    </tr>\n",
       "  </tbody>\n",
       "</table>\n",
       "</div>"
      ],
      "text/plain": [
       "       brand  aspect  meanReview\n",
       "23     cnpgd  screen    0.019074\n",
       "7      apple  screen    0.023324\n",
       "51  otterbox  screen    0.054884"
      ]
     },
     "execution_count": 21,
     "metadata": {},
     "output_type": "execute_result"
    }
   ],
   "source": [
    "aspect = 'screen'\n",
    "mostBrandsReviewsFlat[mostBrandsReviewsFlat['aspect'] == aspect].sort_values(by=['meanReview'], ascending = True)[0:3]"
   ]
  },
  {
   "cell_type": "markdown",
   "metadata": {},
   "source": [
    "### Usecase C:  Discovery of insightful reviews"
   ]
  },
  {
   "cell_type": "markdown",
   "metadata": {},
   "source": [
    "In this section we are going to find reviews that have a low rating but high aspect sentiment scores.  The discrepancy between the rating and the sentiment should flag these reviews because most of these customers were on the fence, so the issues could be addressed and resolved by customer care.  "
   ]
  },
  {
   "cell_type": "code",
   "execution_count": null,
   "metadata": {},
   "outputs": [],
   "source": [
    "s1 = phrasesDF.groupby(['review_id'])['vader_sentiment_pos'].mean()\n",
    "resultsDF = pd.DataFrame(s1, columns=['vader_sentiment_pos'])\n",
    "resultsDF['avg_vader_sentiment_pos'] = phrasesDF.groupby(['review_id'])['vader_sentiment_pos'].mean()\n",
    "resultsDF['rating'] = phrasesDF.groupby(['review_id'])['rating'].mean()\n",
    "resultsDF = resultsDF.query('rating == 1 and avg_vader_sentiment_pos > .8')\n",
    "phrasesDF[ phrasesDF['review_id'].isin(resultsDF.index)]"
   ]
  },
  {
   "cell_type": "markdown",
   "metadata": {},
   "source": [
    "#### The screen is great but..."
   ]
  },
  {
   "cell_type": "code",
   "execution_count": null,
   "metadata": {},
   "outputs": [],
   "source": [
    "reviews[141974]"
   ]
  },
  {
   "cell_type": "markdown",
   "metadata": {},
   "source": [
    "#### The camera is great but..."
   ]
  },
  {
   "cell_type": "code",
   "execution_count": null,
   "metadata": {},
   "outputs": [],
   "source": [
    "reviews[223645]"
   ]
  }
 ],
 "metadata": {
  "kernelspec": {
   "display_name": "Python 3",
   "language": "python",
   "name": "python3"
  },
  "language_info": {
   "codemirror_mode": {
    "name": "ipython",
    "version": 3
   },
   "file_extension": ".py",
   "mimetype": "text/x-python",
   "name": "python",
   "nbconvert_exporter": "python",
   "pygments_lexer": "ipython3",
   "version": "3.6.4"
  }
 },
 "nbformat": 4,
 "nbformat_minor": 1
}
